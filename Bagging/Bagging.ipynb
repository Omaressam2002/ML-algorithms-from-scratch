{
 "cells": [
  {
   "cell_type": "code",
   "execution_count": 6,
   "id": "38cffbdd-58a5-4b6d-aa5e-17c61f04a03a",
   "metadata": {},
   "outputs": [],
   "source": [
    "import numpy as np\n",
    "from sklearn.metrics import accuracy_score\n",
    "from sklearn.utils import resample\n",
    "from Decision_Tree import DecisionTree\n",
    "\n",
    "class Bagging:\n",
    "    def __init__(self, base_model, n_estimators=10, sample_size=None, random_state=42):\n",
    "        self.base_model = base_model\n",
    "        self.n_estimators = n_estimators\n",
    "        self.sample_size = sample_size\n",
    "        self.models = []\n",
    "        np.random.seed(random_state)\n",
    "\n",
    "    def fit(self, X, y):\n",
    "        n_samples = X.shape[0]\n",
    "        self.models = []\n",
    "        for i in range(self.n_estimators):\n",
    "            # Bootstrap sampling\n",
    "            X_sample, y_sample = resample(X, y, n_samples=self.sample_size or n_samples)\n",
    "            model = self.base_model()\n",
    "            model.fit(X_sample, y_sample)\n",
    "            self.models.append(model)\n",
    "\n",
    "    def predict(self, X):\n",
    "        # Get predictions from all models\n",
    "        all_preds = np.array([model.predict(X) for model in self.models])\n",
    "        # Majority vote\n",
    "        y_pred = np.round(all_preds.mean(axis=0)).astype(int)\n",
    "        return y_pred\n"
   ]
  },
  {
   "cell_type": "code",
   "execution_count": 7,
   "id": "538bda2a-813a-4a46-8078-6f0459eac557",
   "metadata": {},
   "outputs": [],
   "source": [
    "import numpy as np\n",
    "import pandas as pd\n",
    "from sklearn.model_selection import train_test_split\n",
    "from sklearn.metrics import accuracy_score\n",
    "\n",
    "\n",
    "url = \"https://raw.githubusercontent.com/datasciencedojo/datasets/master/titanic.csv\"\n",
    "data = pd.read_csv(url)\n",
    "data = data[[\"Pclass\", \"Sex\", \"Age\", \"SibSp\", \"Fare\", \"Survived\"]]\n",
    "data.dropna(inplace=True)\n",
    "\n",
    "\n",
    "data[\"Sex\"] = data[\"Sex\"].map({\"male\": 0, \"female\": 1})\n",
    "\n",
    "X = data.drop(\"Survived\", axis=1)\n",
    "y = data[\"Survived\"]\n",
    "X_train, X_test, y_train, y_test = train_test_split(X, y, test_size=0.2, random_state=42)"
   ]
  },
  {
   "cell_type": "code",
   "execution_count": 8,
   "id": "62136b07-71d9-4a28-b948-1b4e4247acb2",
   "metadata": {},
   "outputs": [
    {
     "name": "stdout",
     "output_type": "stream",
     "text": [
      "Bagging Accuracy: 0.769\n"
     ]
    }
   ],
   "source": [
    "bagging = Bagging(base_model=lambda: DecisionTree(max_depth=4), n_estimators=10)\n",
    "bagging.fit(X_train, y_train)\n",
    "y_pred_bag = bagging.predict(X_test)\n",
    "\n",
    "acc_bag = accuracy_score(y_test, y_pred_bag)\n",
    "print(f\"Bagging Accuracy: {acc_bag:.3f}\")"
   ]
  },
  {
   "cell_type": "code",
   "execution_count": null,
   "id": "f513df73-2ac6-4cec-8520-bdb7d715eca7",
   "metadata": {},
   "outputs": [],
   "source": []
  }
 ],
 "metadata": {
  "kernelspec": {
   "display_name": "Python 3 (ipykernel)",
   "language": "python",
   "name": "python3"
  },
  "language_info": {
   "codemirror_mode": {
    "name": "ipython",
    "version": 3
   },
   "file_extension": ".py",
   "mimetype": "text/x-python",
   "name": "python",
   "nbconvert_exporter": "python",
   "pygments_lexer": "ipython3",
   "version": "3.9.16"
  }
 },
 "nbformat": 4,
 "nbformat_minor": 5
}

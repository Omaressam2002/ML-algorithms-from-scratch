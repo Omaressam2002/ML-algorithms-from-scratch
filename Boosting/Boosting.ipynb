{
 "cells": [
  {
   "cell_type": "code",
   "execution_count": 6,
   "id": "d37792b3-c8c4-4303-9805-90b61673040b",
   "metadata": {},
   "outputs": [],
   "source": [
    "from Decision_Tree import DecisionTree\n",
    "import numpy as np\n",
    "import pandas as pd\n",
    "from sklearn.model_selection import train_test_split\n",
    "from sklearn.metrics import accuracy_score\n",
    "\n",
    "\n",
    "class AdaBoost:\n",
    "    def __init__(self, base_model, n_estimators=10):\n",
    "        self.base_model = base_model\n",
    "        self.n_estimators = n_estimators\n",
    "        self.models = []\n",
    "        self.alphas = []\n",
    "\n",
    "    def fit(self, X, y):\n",
    "        n = len(y)\n",
    "        w = np.ones(n) / n\n",
    "\n",
    "        for i in range(self.n_estimators):\n",
    "            model = self.base_model()\n",
    "            model.fit(X, y)\n",
    "            y_pred = model.predict(X)\n",
    "\n",
    "            # Compute weighted error\n",
    "            err = np.sum(w * (y_pred != y)) / np.sum(w)\n",
    "            if err == 0 or err >= 0.5:\n",
    "                break\n",
    "\n",
    "            # Compute model weight (alpha)\n",
    "            alpha = 0.5 * np.log((1 - err) / (err + 1e-10))\n",
    "            self.models.append(model)\n",
    "            self.alphas.append(alpha)\n",
    "\n",
    "            # Update sample weights\n",
    "            w = w * np.exp(-alpha * y * (2 * y_pred - 1))  # y, y_pred ∈ {0,1}\n",
    "            w /= np.sum(w)\n",
    "\n",
    "    def predict(self, X):\n",
    "        preds = np.zeros(X.shape[0])\n",
    "        for model, alpha in zip(self.models, self.alphas):\n",
    "            preds += alpha * (2 * model.predict(X) - 1)\n",
    "        return (preds > 0).astype(int)"
   ]
  },
  {
   "cell_type": "code",
   "execution_count": 7,
   "id": "4a285f44-5332-4bd4-8e82-35b66c8a6296",
   "metadata": {},
   "outputs": [],
   "source": [
    "\n",
    "url = \"https://raw.githubusercontent.com/datasciencedojo/datasets/master/titanic.csv\"\n",
    "data = pd.read_csv(url)\n",
    "data = data[[\"Pclass\", \"Sex\", \"Age\", \"SibSp\", \"Fare\", \"Survived\"]]\n",
    "data.dropna(inplace=True)\n",
    "\n",
    "\n",
    "data[\"Sex\"] = data[\"Sex\"].map({\"male\": 0, \"female\": 1})\n",
    "\n",
    "X = data.drop(\"Survived\", axis=1)\n",
    "y = data[\"Survived\"]\n",
    "X_train, X_test, y_train, y_test = train_test_split(X, y, test_size=0.2, random_state=42)"
   ]
  },
  {
   "cell_type": "code",
   "execution_count": 8,
   "id": "a6334bda-aab2-4f3c-bd24-6445445d187d",
   "metadata": {},
   "outputs": [
    {
     "name": "stdout",
     "output_type": "stream",
     "text": [
      "AdaBoost Accuracy: 0.734\n"
     ]
    }
   ],
   "source": [
    "boost = AdaBoost(base_model=lambda: DecisionTree(max_depth=1), n_estimators=20)\n",
    "boost.fit(X_train, y_train)\n",
    "y_pred_boost = boost.predict(X_test)\n",
    "\n",
    "acc_boost = accuracy_score(y_test, y_pred_boost)\n",
    "print(f\"AdaBoost Accuracy: {acc_boost:.3f}\")"
   ]
  },
  {
   "cell_type": "code",
   "execution_count": null,
   "id": "2a6f7571-ba92-4daf-845f-3c3b0a5e7431",
   "metadata": {},
   "outputs": [],
   "source": []
  }
 ],
 "metadata": {
  "kernelspec": {
   "display_name": "Python 3 (ipykernel)",
   "language": "python",
   "name": "python3"
  },
  "language_info": {
   "codemirror_mode": {
    "name": "ipython",
    "version": 3
   },
   "file_extension": ".py",
   "mimetype": "text/x-python",
   "name": "python",
   "nbconvert_exporter": "python",
   "pygments_lexer": "ipython3",
   "version": "3.9.16"
  }
 },
 "nbformat": 4,
 "nbformat_minor": 5
}

{
 "cells": [
  {
   "cell_type": "code",
   "execution_count": 22,
   "id": "167ec914-d596-457a-878d-7a4f50d5842f",
   "metadata": {},
   "outputs": [],
   "source": [
    "from datasets import load_dataset\n",
    "import numpy as np\n",
    "import matplotlib.pyplot as plt\n",
    "import seaborn as sns\n",
    "from collections import defaultdict, Counter\n",
    "import math\n",
    "\n",
    "class NaiveBayesTextClassifier:\n",
    "    def __init__(self, alpha=1.0):\n",
    "        \"\"\"\n",
    "        Multinomial Naive Bayes for text classification.\n",
    "        alpha: Laplace smoothing parameter\n",
    "        \"\"\"\n",
    "        self.alpha = alpha\n",
    "        self.classes = None\n",
    "        self.class_priors = {}\n",
    "        self.word_counts = {}\n",
    "        self.vocab = set()\n",
    "        self.class_word_totals = {}\n",
    "\n",
    "    def tokenize(self, text):\n",
    "        \"\"\"Simple whitespace tokenizer \"\"\"\n",
    "        return text.lower().split()\n",
    "\n",
    "    def fit(self, X, y):\n",
    "        \"\"\"\n",
    "        Fit the model on training data.\n",
    "        X: list of text samples\n",
    "        y: list of labels (same length as X)\n",
    "        \"\"\"\n",
    "        self.classes = np.unique(y)\n",
    "        self.word_counts = {c: defaultdict(int) for c in self.classes}\n",
    "        self.class_word_totals = {c: 0 for c in self.classes}\n",
    "        class_doc_counts = Counter(y)\n",
    "\n",
    "        # Compute prior probabilities\n",
    "        total_docs = len(y)\n",
    "        for c in self.classes:\n",
    "            self.class_priors[c] = math.log(class_doc_counts[c] / total_docs)\n",
    "\n",
    "        # Count words per class\n",
    "        for text, label in zip(X, y):\n",
    "            words = self.tokenize(text)\n",
    "            for word in words:\n",
    "                self.word_counts[label][word] += 1\n",
    "                self.class_word_totals[label] += 1\n",
    "                self.vocab.add(word)\n",
    "\n",
    "    def predict(self, X):\n",
    "        \"\"\"\n",
    "        Predict class labels for a list of text samples.\n",
    "        \"\"\"\n",
    "        return [self._predict_single(text) for text in X]\n",
    "\n",
    "    def _predict_single(self, text):\n",
    "        words = self.tokenize(text)\n",
    "        class_scores = {}\n",
    "\n",
    "        for c in self.classes:\n",
    "            # Start with log prior\n",
    "            log_prob = self.class_priors[c]\n",
    "            total_words = self.class_word_totals[c]\n",
    "            vocab_size = len(self.vocab)\n",
    "\n",
    "            for word in words:\n",
    "                word_count = self.word_counts[c].get(word, 0)\n",
    "                # Add log likelihood with Laplace smoothing\n",
    "                log_prob += math.log((word_count + self.alpha) / (total_words + self.alpha * vocab_size))\n",
    "            class_scores[c] = log_prob\n",
    "\n",
    "        self.class_scores = class_scores\n",
    "\n",
    "        # Return class with highest log probability\n",
    "        return max(class_scores, key=class_scores.get)\n",
    "\n",
    "    def score(self, X, y):\n",
    "        \"\"\"\n",
    "        Compute accuracy on a dataset.\n",
    "        \"\"\"\n",
    "        preds = self.predict(X)\n",
    "        return np.mean(np.array(preds) == np.array(y))\n"
   ]
  },
  {
   "cell_type": "code",
   "execution_count": 23,
   "id": "7eed949e-2862-4c95-af26-1de9d7b3a0fe",
   "metadata": {},
   "outputs": [
    {
     "name": "stdout",
     "output_type": "stream",
     "text": [
      "Predictions: ['tech', 'sports']\n",
      "Accuracy: 1.00\n"
     ]
    }
   ],
   "source": [
    "# Example data (replace with AG News or TREC)\n",
    "X_train = [\n",
    "    \"the team won the match\",\n",
    "    \"stocks rise in business news\",\n",
    "    \"new tech advances in AI research\",\n",
    "    \"player scores hat trick in game\",\n",
    "    \"market growth surprises analysts\",\n",
    "]\n",
    "y_train = [\"sports\", \"business\", \"tech\", \"sports\", \"business\"]\n",
    "\n",
    "X_test = [\n",
    "    \"AI startup raises funding\",\n",
    "    \"team loses championship\",\n",
    "]\n",
    "y_test = [\"tech\", \"sports\"]\n",
    "\n",
    "# Train and test\n",
    "nb = NaiveBayesTextClassifier(alpha=1.0)\n",
    "nb.fit(X_train, y_train)\n",
    "acc = nb.score(X_test, y_test)\n",
    "\n",
    "print(f\"Predictions: {nb.predict(X_test)}\")\n",
    "print(f\"Accuracy: {acc:.2f}\")\n"
   ]
  },
  {
   "cell_type": "code",
   "execution_count": 24,
   "id": "5bdf3e32-8fb7-4794-8c1e-02c179d95ee2",
   "metadata": {},
   "outputs": [],
   "source": [
    "dataset = load_dataset(\"ag_news\")\n",
    "\n",
    "# Combine title and description as the full text\n",
    "train_texts = dataset[\"train\"][:][\"text\"]\n",
    "train_labels = dataset[\"train\"][:][\"label\"]\n",
    "\n",
    "test_texts = dataset[\"test\"][:][\"text\"]\n",
    "test_labels = dataset[\"test\"][:][\"label\"]\n",
    "\n",
    "# For faster demo, we’ll use a smaller subset\n",
    "train_texts = train_texts[:8000]\n",
    "train_labels = train_labels[:8000]\n",
    "test_texts = test_texts[:2000]\n",
    "test_labels = test_labels[:2000]"
   ]
  },
  {
   "cell_type": "code",
   "execution_count": 25,
   "id": "19e2eb65-1267-4385-9dbd-c7dd90d77d61",
   "metadata": {},
   "outputs": [],
   "source": [
    "nb = NaiveBayesTextClassifier(alpha=1.0)\n",
    "nb.fit(train_texts, train_labels)"
   ]
  },
  {
   "cell_type": "code",
   "execution_count": 26,
   "id": "3d23574d-6f62-448e-aeed-51c0823304a6",
   "metadata": {},
   "outputs": [
    {
     "name": "stdout",
     "output_type": "stream",
     "text": [
      "Accuracy: 87.55%\n"
     ]
    }
   ],
   "source": [
    "accuracy = nb.score(test_texts, test_labels)\n",
    "print(f\"Accuracy: {accuracy * 100:.2f}%\")"
   ]
  },
  {
   "cell_type": "code",
   "execution_count": 27,
   "id": "cf4879ae-f71a-4193-92e7-a969575705ea",
   "metadata": {},
   "outputs": [
    {
     "data": {
      "image/png": "[encoded data removed]",
      "text/plain": [
       "<Figure size 600x500 with 2 Axes>"
      ]
     },
     "metadata": {},
     "output_type": "display_data"
    }
   ],
   "source": [
    "from sklearn.metrics import confusion_matrix\n",
    "\n",
    "preds = nb.predict(test_texts)\n",
    "cm = confusion_matrix(test_labels, preds)\n",
    "labels = [\"World\", \"Sports\", \"Business\", \"Sci/Tech\"]\n",
    "\n",
    "plt.figure(figsize=(6,5))\n",
    "sns.heatmap(cm, annot=True, fmt='d', cmap=\"Blues\", xticklabels=labels, yticklabels=labels)\n",
    "plt.xlabel(\"Predicted Label\")\n",
    "plt.ylabel(\"True Label\")\n",
    "plt.title(\"Naive Bayes Confusion Matrix (AG News)\")\n",
    "plt.show()"
   ]
  },
  {
   "cell_type": "code",
   "execution_count": null,
   "id": "defae7ca-062b-49dd-b99b-034a6cf85fbc",
   "metadata": {},
   "outputs": [],
   "source": []
  }
 ],
 "metadata": {
  "kernelspec": {
   "display_name": "Python 3 (ipykernel)",
   "language": "python",
   "name": "python3"
  },
  "language_info": {
   "codemirror_mode": {
    "name": "ipython",
    "version": 3
   },
   "file_extension": ".py",
   "mimetype": "text/x-python",
   "name": "python",
   "nbconvert_exporter": "python",
   "pygments_lexer": "ipython3",
   "version": "3.9.16"
  }
 },
 "nbformat": 4,
 "nbformat_minor": 5
}

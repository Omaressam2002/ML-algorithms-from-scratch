{
 "cells": [
  {
   "cell_type": "code",
   "execution_count": 1,
   "id": "d7a6ce4b-d3d6-4bbe-a88c-0beb8d920f10",
   "metadata": {},
   "outputs": [],
   "source": [
    "import numpy as np\n",
    "\n",
    "class LinearSVR:\n",
    "    def __init__(self, learning_rate=0.001, lambda_param=0.01, epsilon=0.1, n_iters=1000):\n",
    "        self.lr = learning_rate\n",
    "        self.lambda_param = lambda_param\n",
    "        self.epsilon = epsilon\n",
    "        self.n_iters = n_iters\n",
    "        self.w = None\n",
    "        self.b = None\n",
    "\n",
    "    def fit(self, X, y):\n",
    "        n_samples, n_features = X.shape\n",
    "        self.w = np.zeros(n_features)\n",
    "        self.b = 0\n",
    "\n",
    "        for _ in range(self.n_iters):\n",
    "            y_pred = np.dot(X, self.w) + self.b\n",
    "            error = y_pred - y\n",
    "\n",
    "            # Gradient of epsilon-insensitive loss\n",
    "            dw = np.zeros(n_features)\n",
    "            db = 0\n",
    "            for i in range(n_samples):\n",
    "                if abs(error[i]) > self.epsilon:\n",
    "                    dw += np.sign(error[i]) * X[i]\n",
    "                    db += np.sign(error[i])\n",
    "            \n",
    "            # Regularization + gradient descent update\n",
    "            self.w -= self.lr * (self.lambda_param * self.w + dw / n_samples)\n",
    "            self.b -= self.lr * db / n_samples\n",
    "\n",
    "    def predict(self, X):\n",
    "        return np.dot(X, self.w) + self.b\n"
   ]
  },
  {
   "cell_type": "code",
   "execution_count": 2,
   "id": "bbcd3ef2-9ff6-4571-8959-d87900fa4f3f",
   "metadata": {},
   "outputs": [],
   "source": [
    "from sklearn.datasets import fetch_california_housing\n",
    "from sklearn.model_selection import train_test_split\n",
    "from sklearn.preprocessing import StandardScaler\n",
    "from sklearn.metrics import mean_squared_error, r2_score\n",
    "import matplotlib.pyplot as plt\n",
    "import seaborn as sns\n",
    "\n",
    "\n",
    "data = fetch_california_housing()\n",
    "X = data.data\n",
    "y = data.target\n",
    "\n",
    "\n",
    "X_train, X_test, y_train, y_test = train_test_split(X, y, test_size=0.2, random_state=42)\n",
    "\n",
    "\n",
    "scaler = StandardScaler()\n",
    "X_train = scaler.fit_transform(X_train)\n",
    "X_test = scaler.transform(X_test)\n"
   ]
  },
  {
   "cell_type": "code",
   "execution_count": 3,
   "id": "4f5801b5-c2aa-4aa2-8f92-7f15ee3d9eb7",
   "metadata": {},
   "outputs": [
    {
     "name": "stdout",
     "output_type": "stream",
     "text": [
      "Linear SVR from Scratch Results:\n",
      "Mean Squared Error: 1.1958\n",
      "R² Score: 0.0875\n"
     ]
    }
   ],
   "source": [
    "svr = LinearSVR(learning_rate=0.001, lambda_param=0.01, epsilon=0.2, n_iters=2000)\n",
    "svr.fit(X_train, y_train)\n",
    "\n",
    "y_pred = svr.predict(X_test)\n",
    "\n",
    "mse = mean_squared_error(y_test, y_pred)\n",
    "r2 = r2_score(y_test, y_pred)\n",
    "\n",
    "print(\"Linear SVR from Scratch Results:\")\n",
    "print(f\"Mean Squared Error: {mse:.4f}\")\n",
    "print(f\"R² Score: {r2:.4f}\")"
   ]
  },
  {
   "cell_type": "code",
   "execution_count": null,
   "id": "9ebce1e7-9dff-4d47-8cc6-f37b0ac8da70",
   "metadata": {},
   "outputs": [],
   "source": []
  }
 ],
 "metadata": {
  "kernelspec": {
   "display_name": "Python 3 (ipykernel)",
   "language": "python",
   "name": "python3"
  },
  "language_info": {
   "codemirror_mode": {
    "name": "ipython",
    "version": 3
   },
   "file_extension": ".py",
   "mimetype": "text/x-python",
   "name": "python",
   "nbconvert_exporter": "python",
   "pygments_lexer": "ipython3",
   "version": "3.9.16"
  }
 },
 "nbformat": 4,
 "nbformat_minor": 5
}
